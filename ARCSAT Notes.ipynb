{
 "cells": [
  {
   "cell_type": "markdown",
   "metadata": {},
   "source": [
    "Brandon Bell, Maura Mckay"
   ]
  },
  {
   "cell_type": "markdown",
   "metadata": {},
   "source": [
    "# ARCSAT Observing Procudure\n",
    "\n",
    "Open JSkyCalc, TUI, dS9, ARCSAT"
   ]
  },
  {
   "cell_type": "markdown",
   "metadata": {},
   "source": [
    "## Calibrations (Cals)\n",
    "1. Before doing anything set the cooler to -35\n",
    "2. Darks/Biases (Shutter & Dome closed)\n",
    "    - Biases\n",
    "        - Go to the Cal Frames tab\n",
    "        - 11 count, 0 exposure, 2 binning\n",
    "    - Darks  (Note: these exposure time are determined by the object plan exposure times)\n",
    "        - Go to the Cal Frames tab\n",
    "        - 5 count, 180 exposure, 2 binning\n",
    "3. Flats\n",
    "    - Dome Flats\n",
    "        - Slave (open) the Dome\n",
    "        - Go to Standard Sky Flats tab\n",
    "        - Click on Setup skyflat plan\n",
    "        - Order should be BVRI, then click use Dome Flat Config\n",
    "        - Go back to flat tab and click Acquire Flat Frames\n",
    "    - Sky Flats (These need to be done no later than 10 min after sunset on a clear night)\n",
    "        - Open the Shutter\n",
    "        - Click on Setup Sky Flats tab\n",
    "        - Order should still be BVRI, then click use Sky Flat Config\n",
    "        - Go back to sky flat tab and click Acquire Flat Frames"
   ]
  },
  {
   "cell_type": "markdown",
   "metadata": {},
   "source": [
    "## Manual Focus\n",
    "\n",
    "1. Take a Test Image\n",
    "    - Go to Single Image tab\n",
    "        - Type in object name, copy and paste coordinates, check autofocus box\n",
    "        - Run this single image\n",
    "        - Look at it in dS9\n",
    "2. Change Focus Value\n",
    "    - First take note of the current focus value found at top of page\n",
    "    - Go to Manual Focus tab\n",
    "        - Use the Offset option\n",
    "        - If objects are elongated horizontally: consider adding 5,10, or 15 value\n",
    "        - If objects are elongated vertically: consider subtracting 5,10, or 15\n",
    " 3. Take Another Test Image\n",
    "    - After offsetting focus value write down current focus value\n",
    "    - Run Test Image again but uncheck the autofocus box \n",
    "    - Look at image in dS9\n",
    "4. Lather ,Rinse, Repeat until good focus."
   ]
  },
  {
   "cell_type": "markdown",
   "metadata": {},
   "source": [
    "## Run Images\n",
    "\n",
    "- Object plans should have NoAutofocus\n",
    "    - Run an Object Plan\n",
    "     - Determining What target to do next\n",
    "        - Go to Multiple Objects Plan tab\n",
    "        - Find the correct plan\n",
    "        - Click Acquire Image\n",
    "        - Go to JSkyCalc \n",
    "        - Look at different target airmass trajectories (the lower the airmass the better)\n",
    "        - We never want to go over 2.2 airmass but the telescope will cancel run if this happens."
   ]
  },
  {
   "cell_type": "markdown",
   "metadata": {},
   "source": [
    "## Sky Flats\n",
    "\n",
    "- These are performed again in the morning at sunrise\n",
    "-  Run the same Sky Flat plan"
   ]
  },
  {
   "cell_type": "markdown",
   "metadata": {},
   "source": [
    "# ARCSAT General Notes\n",
    "\n",
    "\n",
    "ARCSAT specific considerations and procedures."
   ]
  },
  {
   "cell_type": "markdown",
   "metadata": {},
   "source": [
    "Observing run Times:\n",
    "start 11:09\n",
    "BVRI 5x 180 = 1hr 15 minutes."
   ]
  },
  {
   "cell_type": "markdown",
   "metadata": {},
   "source": [
    "## Telescope Limits/Specs\n",
    "\n",
    "**Lower observing limit (current):**\t27 degrees above horizon (Air Mass=2.2), Note: Some vignetting of the field may occur at Air Mass > 2.1 from the lower dome shutter door. Tracking into the lower altitude limit is discouraged.\n",
    "\n",
    "**Telescope plate scale (with corrector)**\t51\"/mm.\n",
    "\n",
    "### SurveyCam\n",
    "\n",
    "Field size:\t4096 x 4096 pixels (36.9 mm)  \n",
    "FOV:\t31.1' x 31.1'  \n",
    "Read-out time:\t24 sec, 1x1 binning  \n",
    "Pixel Scale:\t0.465\"/pix  \n"
   ]
  },
  {
   "cell_type": "markdown",
   "metadata": {},
   "source": [
    "## Optical Charachteristics\n",
    "\n",
    "\n",
    "ARCSAT suffers from both coma and astigmatism. There is a feild flattening lens set to reduces the impact of the coma but, introduces an astigmatism. Even with the introduced astigmatism, the final images is about a factor of 5 bettern than the image with no correction. [ARCSAT optics data](http://users.apo.nmsu.edu/~jwhueh/arcsat/zemax/ \"ARCSAT Optics\") is available on the APO users page.\n",
    "\n",
    "- [Optics with no coma correction](http://users.apo.nmsu.edu/~jwhueh/arcsat/zemax/arcsat_6plot.png \"Bare Telescope Optics\") \n",
    "- [Optics with coma correction and astigmatism](http://users.apo.nmsu.edu/~jwhueh/arcsat/zemax/arcsat_v10c_6plot.png \"Telescope With Coma Correction\")\n",
    "\n",
    "\n",
    "The spot diagrams are drawn for a few representative locations in the feild based on angular distance from the optical axis (0,0) in degrees. The spot diagrams are all pulled from the first qudrant (positive x and y) but the feild should be symetric about the optical axis. Feilds 1-3 show spots at differing vertical distances from the optical axis of 0arcsec, 9arcsec, and 16.8arcsec(just beyond the FOV of Surveycam). Feilds 4 and 5 show spots at equal x,y distances. So, Feild 5 represents a spot just outside the top right corner of a survey cam image, feild 1 is the center of the image, feild 3 is just above the top middle, and feilds 2 and 4 are inbetween. The spots are not perfectly axialy symetric (like coma) or x,y symetric (like astigmatism) because of the compund effects of both.\n",
    "\n",
    "\n",
    "I beleive that it is the coma corection lenses that create the need for the large focus offsets required for the Bessel filters that are ( I think ) normaly parfocal. The Focal shift plot indicates a needed change in focus that seems to jibe with the offsets automaticaly applied by ACP; under the assumption that the focus units displayed in ACP corespond to microns. This is just speculation on my part.  \n",
    "\n",
    "### Tips for focusing with the astigmatism\n",
    "\n",
    "- According to the opticals reports, a perfectly focused imges will produce mild N-S elongations of all stars not in the very center of the images.\n",
    "- The distortion of the stars can tell you wich direction to move the focus (but not how much). Look at stars that are horizontaly centered and near (but not on) the vertical center. If those stars are elongated E-W, then the focus is to short and you need to move it up. If the stars elongated N-S, then the focus is to long and you need to subtract from it. Remeber that in focus stars in this region will show a mild N-S elongation too so, it's about minimizing this elongation."
   ]
  },
  {
   "cell_type": "markdown",
   "metadata": {},
   "source": [
    "## Manual Focusing\n",
    "\n",
    "\n",
    "So on a perfect night and when the telescope is being acting perfect all we have to do is add #autofocus at the top of the scripts we run and sit back and relax. But that is not always the case and hasn't been the past few nights. So here's a rundown of when and how to use manual focusing.\n",
    "\n",
    "When to use manual focus:\n",
    "1. Run one test image (with autofocus) and looks at it in ds9.\n",
    "2. If the objects look elongated horizontally or vertically manual focus is needed. ( The goal is to get perfect spheres. You'll need to zoom in to get a better look.)\n",
    "\n",
    "How to manually focus image:\n",
    "1. Write down the current focus value at the top of the page.\n",
    "2.Goto to Live Observing tab and click manual focus. \n",
    "3. Add 5, 10, or 15 in the offset value window. Typically 10 is a safe offset value (and note that 10 means adding 10 value and putting -10 would take away a value of 10).\n",
    "- I usually add values of there is horizontal elongation and subtract values if there is vertical elongation\n",
    "4. Take another test image but Do Not Have Autofocus.\n",
    "5. Check image to see if elongation has gotten better.\n",
    "6. Repeat steps 3-5 until images look good.\n",
    "7. For the remainder of the images you run the scripts that say NoAutofocus."
   ]
  },
  {
   "cell_type": "markdown",
   "metadata": {},
   "source": [
    "## SurveyCam Cooler\n",
    "\n",
    "- The offical word (as of Oct 2015) is to leave the cooler on during the day.\n",
    "- The cooler setpoint is to be -35c unless the cooler is struggling to keep up. \n",
    "- If the cooler runs at high power for too long, the control software will reset the cooler temp to a lower value. This happens with no alert or dialouge in ACP and there is no way to check the current cooler setpoint in ACP. This can create a situation  where the cooler is neither at your set point or running at a high cooler power like it's trying to get to your set point. So, if the temp won't come all the way down to your set point that could be why, especialyl if the power level is only like 50-60%. The set point reset process may happen multiple times until the cooler is able to maintain the set temperture. For this reason, it's important to try and preempt a possible temp reset and set the cooler to a higher temperture if it's struggleing to prevent an un-notified temp change that would invalidate any previously aquired cals over the course of the night. This has only been a problem during the summer."
   ]
  },
  {
   "cell_type": "markdown",
   "metadata": {},
   "source": [
    "## WCS Solutions\n",
    "\n",
    "WCS solutions are found for images using PinPoint software. The WCS is only fit over a small center section of the image and then extrapolated to the rest of the image. The WCS solution over the center of the image is usually pretty good but, the solutions outside the center can be off by significant amounts.\n",
    "\n",
    "\n",
    "ACP atempts to solve each image before starting the next image so, images that are problematic intensive to solve will create allot of overhead."
   ]
  },
  {
   "cell_type": "markdown",
   "metadata": {
    "collapsed": true
   },
   "source": [
    "## Flats\n",
    "\n",
    "### Sky FLats\n",
    "\n",
    "sky flats should be ordered in the order I,R,V,B in the dialouge. The order that the flats are taken in wil automatically reverse for morning flats. There is just enough time to do 5 flats in each Bessel filter. Evenng flats need to be started by (Can start as soon as -$4^{\\circ}$ 15, The script will take ~12 minutes to run) minutes after sunset, and morning flats need to be started by the time the sun reaches -$7^{\\circ}$ altitude.\n",
    "\n",
    "### Dome Flats\n",
    "\n",
    "Domes take ~20minutes to complete."
   ]
  },
  {
   "cell_type": "markdown",
   "metadata": {
    "collapsed": true
   },
   "source": []
  }
 ],
 "metadata": {
  "kernelspec": {
   "display_name": "Python 3",
   "language": "python",
   "name": "python3"
  },
  "language_info": {
   "codemirror_mode": {
    "name": "ipython",
    "version": 3
   },
   "file_extension": ".py",
   "mimetype": "text/x-python",
   "name": "python",
   "nbconvert_exporter": "python",
   "pygments_lexer": "ipython3",
   "version": "3.5.0"
  }
 },
 "nbformat": 4,
 "nbformat_minor": 0
}
